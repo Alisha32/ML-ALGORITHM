{
  "nbformat": 4,
  "nbformat_minor": 0,
  "metadata": {
    "colab": {
      "provenance": []
    },
    "kernelspec": {
      "name": "python3",
      "display_name": "Python 3"
    },
    "language_info": {
      "name": "python"
    }
  },
  "cells": [
    {
      "cell_type": "code",
      "execution_count": 32,
      "metadata": {
        "id": "Bba5ImIsv__t"
      },
      "outputs": [],
      "source": [
        "#IMPORTING RELEVANT LIBRARIES\n",
        "import numpy as np\n",
        "from sklearn import preprocessing"
      ]
    },
    {
      "cell_type": "code",
      "source": [
        "#LOADING THE DATASET\n",
        "raw_data_csv=np.loadtxt(\"/content/Audiobooks_data.csv\", delimiter=',')\n",
        "\n",
        "unscaled_input_all = raw_data_csv[:,1:-1]\n",
        "targets_all = raw_data_csv[:,-1]"
      ],
      "metadata": {
        "id": "fvzd6Zk9wJc9"
      },
      "execution_count": 33,
      "outputs": []
    },
    {
      "cell_type": "code",
      "source": [
        "#BALANCING THE DATASET\n",
        "#by visualising we notice that targets contains more 0 than 1's. So, we will count once and then keep 0's count equlas to 1 and delete rest.\n",
        "num_one_targets=int(np.sum(targets_all))\n",
        "zero_targets_counter=0\n",
        "indices_to_remove=[]\n",
        "\n",
        "for i in range (targets_all.shape[0]):\n",
        "  if targets_all[i]==0:\n",
        "    zero_targets_counter +=1\n",
        "    if zero_targets_counter > num_one_targets:\n",
        "      indices_to_remove.append(i)\n",
        "  \n",
        "unscaled_input_equal_prior = np.delete(unscaled_input_all, indices_to_remove,axis=0)\n",
        "targets_all_equal_prior= np.delete(targets_all,indices_to_remove,axis=0)"
      ],
      "metadata": {
        "id": "IqrDa-6CwmTx"
      },
      "execution_count": 34,
      "outputs": []
    },
    {
      "cell_type": "code",
      "source": [
        "#STANDARDIZING THE INPUTS\n",
        "scaled_inputs = preprocessing.scale(unscaled_input_equal_prior)"
      ],
      "metadata": {
        "id": "OE2s8J_exzoO"
      },
      "execution_count": 35,
      "outputs": []
    },
    {
      "cell_type": "code",
      "source": [
        "#SHUFFLING THE DATA\n",
        "shuffled_indices = np.arange(scaled_inputs.shape[0])\n",
        "np.random.shuffle(shuffled_indices)\n",
        "\n",
        "shuffled_inputs = scaled_inputs[shuffled_indices]\n",
        "shuffled_targets=targets_all_equal_prior[shuffled_indices]"
      ],
      "metadata": {
        "id": "x6hmt2AAzMok"
      },
      "execution_count": 42,
      "outputs": []
    },
    {
      "cell_type": "code",
      "source": [
        "#SPLITTING INTO TRAIN,TEST,VALIDATION\n",
        "samples_count= shuffled_inputs.shape[0]\n",
        "\n",
        "train_sample_count = int(0.8*samples_count)\n",
        "validation_sample_count = int(0.1*samples_count)\n",
        "test_sample_count = samples_count - train_sample_count - validation_sample_count\n",
        "\n",
        "train_inputs = shuffled_inputs[:train_sample_count]\n",
        "train_targets = shuffled_targets[:train_sample_count]\n",
        "\n",
        "validation_inputs = shuffled_inputs[train_sample_count:train_sample_count+validation_sample_count]\n",
        "validation_targets = shuffled_targets[train_sample_count:train_sample_count+validation_sample_count]\n",
        "\n",
        "test_inputs = shuffled_inputs[train_sample_count+validation_sample_count:]\n",
        "test_targets = shuffled_targets[train_sample_count+validation_sample_count:]\n",
        "\n",
        "\n",
        "\n",
        "#CHECKING THE BALANCING\n",
        "print(np.sum(train_targets), train_sample_count, np.sum(train_targets)/train_sample_count)\n",
        "print(np.sum(validation_targets), validation_sample_count, np.sum(validation_targets)/validation_sample_count)\n",
        "print(np.sum(test_targets), test_sample_count, np.sum(test_targets)/test_sample_count)\n"
      ],
      "metadata": {
        "colab": {
          "base_uri": "https://localhost:8080/"
        },
        "id": "lIgySC62zONd",
        "outputId": "009d998c-f7b9-4244-c51b-3f504a59859e"
      },
      "execution_count": 43,
      "outputs": [
        {
          "output_type": "stream",
          "name": "stdout",
          "text": [
            "1767.0 3579 0.49371332774518023\n",
            "231.0 447 0.5167785234899329\n",
            "239.0 448 0.5334821428571429\n"
          ]
        }
      ]
    },
    {
      "cell_type": "code",
      "source": [
        "#SAVING IN SUITABLE FORMAT(.npz)\n",
        "np.savez('Audiobooks_data_train', inputs=train_inputs, targets = train_targets)\n",
        "np.savez('Audiobooks_data_validation', inputs=validation_inputs, targets = validation_targets)\n",
        "np.savez('Audiobooks_data_test', inputs=test_inputs, targets=test_targets)"
      ],
      "metadata": {
        "id": "fhP-nGp52xik"
      },
      "execution_count": 44,
      "outputs": []
    },
    {
      "cell_type": "markdown",
      "source": [
        "CREATING THE ML ALGORITHM"
      ],
      "metadata": {
        "id": "c5vSfRxz66x5"
      }
    },
    {
      "cell_type": "code",
      "source": [
        "#IMPORTING RELEVANT LIBRARIES\n",
        "import numpy as np\n",
        "import tensorflow as tf"
      ],
      "metadata": {
        "id": "jru8fxE-69za"
      },
      "execution_count": 45,
      "outputs": []
    },
    {
      "cell_type": "code",
      "source": [
        "#LOADING THE DATA\n",
        "npz=np.load('Audiobooks_data_train.npz')\n",
        "train_inputs=npz['inputs'].astype(np.float64)\n",
        "train_targets=npz['targets'].astype(np.int32)\n",
        "\n",
        "npz=np.load('Audiobooks_data_validation.npz')\n",
        "validation_inputs = npz['inputs'].astype(np.float64)\n",
        "validation_targets = npz['targets'].astype(np.int32)\n",
        "\n",
        "npz=np.load('Audiobooks_data_test.npz')\n",
        "test_inputs = npz['inputs'].astype(np.float64)\n",
        "test_targets = npz['targets'].astype(np.int32)\n"
      ],
      "metadata": {
        "id": "3wkFDZin7AWJ"
      },
      "execution_count": 46,
      "outputs": []
    },
    {
      "cell_type": "code",
      "source": [
        "#ALGORITHM\n",
        "input_size=10\n",
        "output_size=2\n",
        "hidden_layer_size=50\n",
        "model = tf.keras.Sequential([\n",
        "    tf.keras.layers.Dense(hidden_layer_size,activation='relu'),\n",
        "    tf.keras.layers.Dense(hidden_layer_size,activation='relu'),\n",
        "    tf.keras.layers.Dense(output_size,activation='softmax')\n",
        "    ])\n",
        "model.compile(optimizer='adam',loss='sparse_categorical_crossentropy',metrics=['accuracy'])\n",
        "\n",
        "batch_size=100\n",
        "max_epochs=100\n",
        "early_stopping= tf.keras.callbacks.EarlyStopping(patience=3)\n",
        "\n",
        "model.fit(train_inputs,\n",
        "          train_targets,\n",
        "          batch_size=batch_size,\n",
        "          epochs=max_epochs,\n",
        "          callbacks=[early_stopping],\n",
        "          validation_data=(validation_inputs,validation_targets),\n",
        "          verbose=2\n",
        "          )\n"
      ],
      "metadata": {
        "colab": {
          "base_uri": "https://localhost:8080/"
        },
        "id": "VUo5byIGAedK",
        "outputId": "b164f3ed-7bb7-47e2-cb8f-7c95024a8d3b"
      },
      "execution_count": 54,
      "outputs": [
        {
          "output_type": "stream",
          "name": "stdout",
          "text": [
            "Epoch 1/100\n",
            "36/36 - 1s - loss: 0.5557 - accuracy: 0.6963 - val_loss: 0.4807 - val_accuracy: 0.7562 - 658ms/epoch - 18ms/step\n",
            "Epoch 2/100\n",
            "36/36 - 0s - loss: 0.4547 - accuracy: 0.7695 - val_loss: 0.4236 - val_accuracy: 0.7740 - 125ms/epoch - 3ms/step\n",
            "Epoch 3/100\n",
            "36/36 - 0s - loss: 0.4092 - accuracy: 0.7846 - val_loss: 0.3976 - val_accuracy: 0.7808 - 116ms/epoch - 3ms/step\n",
            "Epoch 4/100\n",
            "36/36 - 0s - loss: 0.3831 - accuracy: 0.7985 - val_loss: 0.3803 - val_accuracy: 0.7852 - 106ms/epoch - 3ms/step\n",
            "Epoch 5/100\n",
            "36/36 - 0s - loss: 0.3709 - accuracy: 0.8036 - val_loss: 0.3711 - val_accuracy: 0.7942 - 110ms/epoch - 3ms/step\n",
            "Epoch 6/100\n",
            "36/36 - 0s - loss: 0.3617 - accuracy: 0.7977 - val_loss: 0.3662 - val_accuracy: 0.7808 - 100ms/epoch - 3ms/step\n",
            "Epoch 7/100\n",
            "36/36 - 0s - loss: 0.3518 - accuracy: 0.8061 - val_loss: 0.3612 - val_accuracy: 0.7897 - 116ms/epoch - 3ms/step\n",
            "Epoch 8/100\n",
            "36/36 - 0s - loss: 0.3480 - accuracy: 0.8083 - val_loss: 0.3478 - val_accuracy: 0.8054 - 101ms/epoch - 3ms/step\n",
            "Epoch 9/100\n",
            "36/36 - 0s - loss: 0.3440 - accuracy: 0.8128 - val_loss: 0.3525 - val_accuracy: 0.8098 - 106ms/epoch - 3ms/step\n",
            "Epoch 10/100\n",
            "36/36 - 0s - loss: 0.3409 - accuracy: 0.8075 - val_loss: 0.3488 - val_accuracy: 0.8143 - 116ms/epoch - 3ms/step\n",
            "Epoch 11/100\n",
            "36/36 - 0s - loss: 0.3370 - accuracy: 0.8145 - val_loss: 0.3527 - val_accuracy: 0.8076 - 100ms/epoch - 3ms/step\n"
          ]
        },
        {
          "output_type": "execute_result",
          "data": {
            "text/plain": [
              "<keras.callbacks.History at 0x7f55644d4df0>"
            ]
          },
          "metadata": {},
          "execution_count": 54
        }
      ]
    },
    {
      "cell_type": "code",
      "source": [
        "#TESTING\n",
        "test_loss, test_accuracy=model.evaluate(test_inputs,test_targets)"
      ],
      "metadata": {
        "colab": {
          "base_uri": "https://localhost:8080/"
        },
        "id": "rZVuneZWFfmK",
        "outputId": "f302f6d0-d970-428d-e78d-24e6247f1fb3"
      },
      "execution_count": 57,
      "outputs": [
        {
          "output_type": "stream",
          "name": "stdout",
          "text": [
            "14/14 [==============================] - 0s 2ms/step - loss: 0.3709 - accuracy: 0.7946\n"
          ]
        }
      ]
    },
    {
      "cell_type": "code",
      "source": [
        "print('Test loss: {0:.2f}. Test accuracy: {1:.2f}%'.format(test_loss, test_accuracy*100.))"
      ],
      "metadata": {
        "colab": {
          "base_uri": "https://localhost:8080/"
        },
        "id": "1xAaPhZKF_Jd",
        "outputId": "798d6482-db50-40cf-9df1-9f968796ca1f"
      },
      "execution_count": 59,
      "outputs": [
        {
          "output_type": "stream",
          "name": "stdout",
          "text": [
            "Test loss: 0.37. Test accuracy: 79.46%\n"
          ]
        }
      ]
    }
  ]
}